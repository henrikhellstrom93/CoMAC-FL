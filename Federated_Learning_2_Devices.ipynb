{
 "cells": [
  {
   "cell_type": "code",
   "execution_count": 1,
   "metadata": {},
   "outputs": [
    {
     "name": "stdout",
     "output_type": "stream",
     "text": [
      "Size of x_train1 = 30000\n",
      "Size of x_train2 = 30000\n",
      "Should be a label 0-9: 2\n"
     ]
    }
   ],
   "source": [
    "#Load MNIST dataset\n",
    "import tensorflow as tf\n",
    "\n",
    "mnist = tf.keras.datasets.mnist\n",
    "\n",
    "(x_train, y_train), (x_test, y_test) = mnist.load_data()\n",
    "x_train, x_test = x_train/255, x_test/255\n",
    "\n",
    "#Split dataset into shards\n",
    "x_train1 = x_train[0:30000]\n",
    "x_train2 = x_train[30000:60000]\n",
    "y_train1 = y_train[0:30000]\n",
    "y_train2 = y_train[30000:60000]\n",
    "x_test1 = x_test[0:30000]\n",
    "x_test2 = x_test[30000:60000]\n",
    "y_test1 = y_test[0:30000]\n",
    "y_test2 = y_test[30000:60000]\n",
    "\n",
    "print(\"Size of x_train1 = \" + str(len(x_train1)))\n",
    "print(\"Size of x_train2 = \" + str(len(x_train2)))\n",
    "print(\"Should be a label 0-9: \" + str(y_train1[5]))"
   ]
  },
  {
   "cell_type": "code",
   "execution_count": 2,
   "metadata": {},
   "outputs": [],
   "source": [
    "#Set up DNN models\n",
    "model1 = tf.keras.models.Sequential([\n",
    "    tf.keras.layers.Flatten(input_shape=(28,28)),\n",
    "    tf.keras.layers.Dense(128, activation='relu'),\n",
    "    tf.keras.layers.Dropout(0.2),\n",
    "    tf.keras.layers.Dense(10)\n",
    "])\n",
    "model2 = tf.keras.models.clone_model(model1)\n",
    "global_model = tf.keras.models.clone_model(model1)\n",
    "\n",
    "loss_fn = tf.keras.losses.SparseCategoricalCrossentropy(from_logits=True)\n",
    "\n",
    "model1.compile(optimizer='adam', loss=loss_fn, metrics=['accuracy'])\n",
    "model2.compile(optimizer='adam', loss=loss_fn, metrics=['accuracy'])\n",
    "#Distribute global model to all devices\n",
    "global_weights = global_model.get_weights()\n",
    "model1.set_weights(global_weights)\n",
    "model2.set_weights(global_weights)"
   ]
  },
  {
   "cell_type": "code",
   "execution_count": 3,
   "metadata": {},
   "outputs": [
    {
     "name": "stdout",
     "output_type": "stream",
     "text": [
      "Communication round 0:\n",
      "Train on 30000 samples\n",
      "30000/30000 [==============================] - 3s 87us/sample - loss: 0.3911 - accuracy: 0.8882\n",
      "Train on 30000 samples\n",
      "30000/30000 [==============================] - 3s 94us/sample - loss: 0.3945 - accuracy: 0.8847\n",
      "Communication round 1:\n",
      "Train on 30000 samples\n",
      "30000/30000 [==============================] - 3s 86us/sample - loss: 0.2013 - accuracy: 0.9427\n",
      "Train on 30000 samples\n",
      "30000/30000 [==============================] - ETA: 0s - loss: 0.2022 - accuracy: 0.94 - 2s 80us/sample - loss: 0.2018 - accuracy: 0.9415\n",
      "Communication round 2:\n",
      "Train on 30000 samples\n",
      "30000/30000 [==============================] - 2s 80us/sample - loss: 0.1508 - accuracy: 0.9557\n",
      "Train on 30000 samples\n",
      "30000/30000 [==============================] - 3s 94us/sample - loss: 0.1539 - accuracy: 0.9551\n",
      "Communication round 3:\n",
      "Train on 30000 samples\n",
      "30000/30000 [==============================] - 3s 86us/sample - loss: 0.1238 - accuracy: 0.9635\n",
      "Train on 30000 samples\n",
      "30000/30000 [==============================] - 3s 88us/sample - loss: 0.1250 - accuracy: 0.9632\n",
      "Communication round 4:\n",
      "Train on 30000 samples\n",
      "30000/30000 [==============================] - 2s 81us/sample - loss: 0.1057 - accuracy: 0.9674\n",
      "Train on 30000 samples\n",
      "30000/30000 [==============================] - 3s 90us/sample - loss: 0.1098 - accuracy: 0.9669\n"
     ]
    }
   ],
   "source": [
    "#Train DNN\n",
    "num_rounds = 5 # Number of communication rounds\n",
    "for i in range(num_rounds):\n",
    "    print(\"Communication round \" + str(i) + \":\")\n",
    "    #Train using local dataset\n",
    "    model1.fit(x_train1, y_train1, epochs=1)\n",
    "    model2.fit(x_train2, y_train2, epochs=1)\n",
    "    #Calculate weight update\n",
    "    weights1_new = model1.get_weights()\n",
    "    weights2_new = model2.get_weights()\n",
    "    weights1_update = weights1_new #Just to initiate shape\n",
    "    weights2_update = weights2_new #Just to initiate shape\n",
    "    for l in range(len(weights1_new)):\n",
    "        weights1_update[l] = weights1_new[l]-global_weights[l]\n",
    "        weights2_update[l] = weights2_new[l]-global_weights[l]\n",
    "    average_update = weights1_update #Just to initiate shape\n",
    "    for j in range(len(weights1_update)):\n",
    "        average_update[j] = (weights1_update[j]+weights2_update[j])/2\n",
    "    #Update global model\n",
    "    new_global = global_weights #Just to initiate shape\n",
    "    for l in range(len(global_weights)):\n",
    "        new_global[l] = global_weights[l]+average_update[l]\n",
    "    model1.set_weights(new_global)\n",
    "    model2.set_weights(new_global)\n",
    "    global_weights = new_global"
   ]
  },
  {
   "cell_type": "code",
   "execution_count": 4,
   "metadata": {},
   "outputs": [
    {
     "name": "stdout",
     "output_type": "stream",
     "text": [
      "10000/10000 - 0s - loss: 0.0871 - accuracy: 0.9742\n",
      "10000/10000 - 0s - loss: 0.0871 - accuracy: 0.9742\n",
      "Performance should be identical\n"
     ]
    }
   ],
   "source": [
    "#Evaluate performance\n",
    "model1.evaluate(x_test, y_test, verbose=2)\n",
    "model2.evaluate(x_test, y_test, verbose=2)\n",
    "print(\"Performance should be identical\")"
   ]
  }
 ],
 "metadata": {
  "kernelspec": {
   "display_name": "Python 3",
   "language": "python",
   "name": "python3"
  },
  "language_info": {
   "codemirror_mode": {
    "name": "ipython",
    "version": 3
   },
   "file_extension": ".py",
   "mimetype": "text/x-python",
   "name": "python",
   "nbconvert_exporter": "python",
   "pygments_lexer": "ipython3",
   "version": "3.6.2"
  }
 },
 "nbformat": 4,
 "nbformat_minor": 4
}
