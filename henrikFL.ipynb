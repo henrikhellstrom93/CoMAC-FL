{
 "cells": [
  {
   "cell_type": "code",
   "execution_count": null,
   "metadata": {},
   "outputs": [],
   "source": [
    "def normalize_weights(weight_updates):\n",
    "    #Calculate mean and variance\n",
    "    mean = 0\n",
    "    variance = 0\n",
    "    num_devices = len(weight_updates)\n",
    "    for d in range(num_devices):\n",
    "        #Collapse weight datastructure into array\n",
    "        coll_weights = 0\n",
    "        num_layers = len(weight_updates[d])\n",
    "        for l in range(num_layers):\n",
    "            if l == 0:\n",
    "                coll_weights = weight_updates[d][l].flatten()\n",
    "            else:\n",
    "                coll_weights = np.append(coll_weights, weight_updates[d][l].flatten())\n",
    "        mean = mean + np.mean(coll_weights)\n",
    "        variance = variance + np.var(coll_weights)\n",
    "    mean = mean/num_devices\n",
    "    variance = variance/num_devices\n",
    "    print(\"Weight update mean: \", mean)\n",
    "    print(\"Weight update variance: \", variance)\n",
    "    #Normalize weight updates\n",
    "    for d in range(num_devices):\n",
    "        for l in range(num_layers):\n",
    "            for weight in np.nditer(weight_updates[d][l], op_flags = ['readwrite']):\n",
    "                weight[...] = (weight-mean)/np.sqrt(variance)\n",
    "    return weight_updates"
   ]
  }
 ],
 "metadata": {
  "kernelspec": {
   "display_name": "Python 3",
   "language": "python",
   "name": "python3"
  },
  "language_info": {
   "codemirror_mode": {
    "name": "ipython",
    "version": 3
   },
   "file_extension": ".py",
   "mimetype": "text/x-python",
   "name": "python",
   "nbconvert_exporter": "python",
   "pygments_lexer": "ipython3",
   "version": "3.6.2"
  }
 },
 "nbformat": 4,
 "nbformat_minor": 4
}
