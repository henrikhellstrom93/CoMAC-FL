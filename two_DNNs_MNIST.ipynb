{
 "cells": [
  {
   "cell_type": "code",
   "execution_count": 1,
   "metadata": {},
   "outputs": [
    {
     "name": "stdout",
     "output_type": "stream",
     "text": [
      "Should be a label 0-9: 1\n"
     ]
    }
   ],
   "source": [
    "#Load MNIST dataset\n",
    "import tensorflow as tf\n",
    "\n",
    "mnist = tf.keras.datasets.mnist\n",
    "\n",
    "(x_train, y_train), (x_test, y_test) = mnist.load_data()\n",
    "x_train, x_test = x_train/255, x_test/255\n",
    "\n",
    "print(\"Should be a label 0-9: \" + str(y_test[5]))"
   ]
  },
  {
   "cell_type": "code",
   "execution_count": 2,
   "metadata": {},
   "outputs": [],
   "source": [
    "#Set up DNN models\n",
    "model1 = tf.keras.models.Sequential([\n",
    "    tf.keras.layers.Flatten(input_shape=(28,28)),\n",
    "    tf.keras.layers.Dense(128, activation='relu'),\n",
    "    tf.keras.layers.Dropout(0.2),\n",
    "    tf.keras.layers.Dense(10)\n",
    "])\n",
    "model2 = tf.keras.models.clone_model(model1)\n",
    "\n",
    "loss_fn = tf.keras.losses.SparseCategoricalCrossentropy(from_logits=True)\n",
    "\n",
    "model1.compile(optimizer='adam', loss=loss_fn, metrics=['accuracy'])\n",
    "model2.compile(optimizer='adam', loss=loss_fn, metrics=['accuracy'])"
   ]
  },
  {
   "cell_type": "code",
   "execution_count": 3,
   "metadata": {},
   "outputs": [
    {
     "name": "stdout",
     "output_type": "stream",
     "text": [
      "Train on 60000 samples\n",
      "60000/60000 [==============================] - 4s 72us/sample - loss: 0.3023 - accuracy: 0.9124\n"
     ]
    },
    {
     "data": {
      "text/plain": [
       "<tensorflow.python.keras.callbacks.History at 0x18720c09cc0>"
      ]
     },
     "execution_count": 3,
     "metadata": {},
     "output_type": "execute_result"
    }
   ],
   "source": [
    "#Train DNN\n",
    "model1.fit(x_train, y_train, epochs=1)"
   ]
  },
  {
   "cell_type": "code",
   "execution_count": 4,
   "metadata": {},
   "outputs": [
    {
     "name": "stdout",
     "output_type": "stream",
     "text": [
      "10000/10000 - 0s - loss: 0.1462 - accuracy: 0.9584\n",
      "10000/10000 - 0s - loss: 2.3745 - accuracy: 0.0778\n",
      "Model 2 should be much worse than model 1\n"
     ]
    }
   ],
   "source": [
    "#Evaluate performance\n",
    "model1.evaluate(x_test, y_test, verbose=2)\n",
    "model2.evaluate(x_test, y_test, verbose=2)\n",
    "print(\"Model 2 should be much worse than model 1\")"
   ]
  },
  {
   "cell_type": "code",
   "execution_count": 5,
   "metadata": {},
   "outputs": [
    {
     "name": "stdout",
     "output_type": "stream",
     "text": [
      "10000/10000 - 0s - loss: 0.1462 - accuracy: 0.9584\n",
      "10000/10000 - 0s - loss: 0.1462 - accuracy: 0.9584\n",
      "Model2 performance should now match model 1\n"
     ]
    }
   ],
   "source": [
    "#Copy weights from model1 to model2 and evaluate\n",
    "model1_weights = model1.get_weights()\n",
    "model2.set_weights(model1_weights)\n",
    "\n",
    "model1.evaluate(x_test, y_test, verbose=2)\n",
    "model2.evaluate(x_test, y_test, verbose=2)\n",
    "print(\"Model2 performance should now match model 1\")"
   ]
  },
  {
   "cell_type": "code",
   "execution_count": 35,
   "metadata": {},
   "outputs": [
    {
     "name": "stdout",
     "output_type": "stream",
     "text": [
      "<class 'list'>\n",
      "<class 'numpy.ndarray'>\n",
      "(784, 128)\n",
      "(784, 128)\n",
      "Average test\n",
      "[[1. 1.]\n",
      " [1. 1.]]\n",
      "[[ 0.60363951  2.12912968]\n",
      " [ 1.13950541 -1.19055683]]\n"
     ]
    }
   ],
   "source": [
    "#Tests on weight vector\n",
    "import numpy as np\n",
    "print(type(model1_weights))\n",
    "print(type(model1_weights[0]))\n",
    "print(np.shape(model1_weights[0]))\n",
    "one_matrix = np.ones(np.shape(model1_weights[0]))\n",
    "print(np.shape(one_matrix))\n",
    "#Average test\n",
    "print(\"Average test\")\n",
    "test_matrix = np.ones((2,2))\n",
    "print(test_matrix)\n",
    "for element in np.nditer(test_matrix, op_flags = ['readwrite']):\n",
    "    weight = element\n",
    "    noise = np.random.normal(0, weight)\n",
    "    element[...] = weight + noise\n",
    "print(test_matrix)"
   ]
  },
  {
   "cell_type": "code",
   "execution_count": null,
   "metadata": {},
   "outputs": [],
   "source": []
  },
  {
   "cell_type": "code",
   "execution_count": null,
   "metadata": {},
   "outputs": [],
   "source": []
  }
 ],
 "metadata": {
  "kernelspec": {
   "display_name": "Python 3",
   "language": "python",
   "name": "python3"
  },
  "language_info": {
   "codemirror_mode": {
    "name": "ipython",
    "version": 3
   },
   "file_extension": ".py",
   "mimetype": "text/x-python",
   "name": "python",
   "nbconvert_exporter": "python",
   "pygments_lexer": "ipython3",
   "version": "3.6.2"
  }
 },
 "nbformat": 4,
 "nbformat_minor": 4
}
